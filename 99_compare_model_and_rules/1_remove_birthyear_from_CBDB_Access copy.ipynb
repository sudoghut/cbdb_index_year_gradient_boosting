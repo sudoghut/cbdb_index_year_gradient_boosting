{
 "cells": [
  {
   "cell_type": "markdown",
   "metadata": {},
   "source": [
    "## Remove birth years based on the personids in validation data\n",
    "\n",
    "Put CBDB data1.mdb to 99_compare_model_and_rules folder\n",
    "and then run the codes\n"
   ]
  },
  {
   "cell_type": "code",
   "execution_count": 1,
   "metadata": {},
   "outputs": [],
   "source": [
    "import pyodbc\n",
    "import pandas as pd"
   ]
  },
  {
   "cell_type": "code",
   "execution_count": 2,
   "metadata": {},
   "outputs": [
    {
     "name": "stdout",
     "output_type": "stream",
     "text": [
      "   k_2_by  k_4_by  k_6_by  k_8_by  k_22_by  k_23_by  k_24_by  k_25_by  \\\n",
      "0     NaN     NaN     NaN     NaN      NaN      NaN      NaN      NaN   \n",
      "1     NaN     NaN     NaN     NaN      NaN      NaN      NaN      NaN   \n",
      "2     NaN     NaN     NaN     NaN      NaN      NaN      NaN      NaN   \n",
      "3     NaN     NaN     NaN     NaN      NaN      NaN      NaN      NaN   \n",
      "4     NaN     NaN     NaN     NaN      NaN      NaN      NaN      NaN   \n",
      "5     NaN     NaN     NaN     NaN      NaN      NaN      NaN      NaN   \n",
      "6     NaN     NaN     NaN     NaN      NaN      NaN      NaN      NaN   \n",
      "7     NaN     NaN     NaN     NaN      NaN      NaN      NaN      NaN   \n",
      "8     NaN     NaN     NaN     NaN      NaN      NaN      NaN      NaN   \n",
      "9     NaN     NaN     NaN     NaN      NaN      NaN      NaN      NaN   \n",
      "\n",
      "   k_26_by  k_28_by  ...  e_323  e_326  e_329  e_330  e_332  e_334  e_343  \\\n",
      "0      NaN      NaN  ...    NaN    NaN    NaN    NaN    NaN    NaN    NaN   \n",
      "1      NaN      NaN  ...    NaN    NaN    NaN    NaN    NaN    NaN    NaN   \n",
      "2      NaN      NaN  ...    NaN    NaN    NaN    NaN    NaN    NaN    NaN   \n",
      "3      NaN      NaN  ...    NaN    NaN    NaN    NaN    NaN    NaN    NaN   \n",
      "4      NaN      NaN  ...    NaN    NaN    NaN    NaN    NaN    NaN    NaN   \n",
      "5      NaN      NaN  ...    NaN    NaN    NaN    NaN    NaN    NaN    NaN   \n",
      "6      NaN      NaN  ...    NaN    NaN    NaN    NaN    NaN    NaN    NaN   \n",
      "7      NaN      NaN  ...    NaN    NaN    NaN    NaN    NaN    NaN    NaN   \n",
      "8      NaN      NaN  ...    NaN    NaN    NaN    NaN    NaN    NaN    NaN   \n",
      "9      NaN      NaN  ...    NaN    NaN    NaN    NaN    NaN    NaN    NaN   \n",
      "\n",
      "   person_id  birth_year  death_year  \n",
      "0      62632      1732.0      1784.0  \n",
      "1      34345      1824.0      1890.0  \n",
      "2     206202      1542.0         NaN  \n",
      "3     142346       635.0       698.0  \n",
      "4     131203      1528.0      1591.0  \n",
      "5      66653      1344.0      1400.0  \n",
      "6     145595       736.0       804.0  \n",
      "7     140735       687.0       738.0  \n",
      "8     101432      1225.0      1304.0  \n",
      "9     203495      1511.0         NaN  \n",
      "\n",
      "[10 rows x 638 columns]\n"
     ]
    }
   ],
   "source": [
    "validation_set = pd.read_csv('../validation_set.csv',encoding='utf-8-sig')\n",
    "validation_set_personid = validation_set['person_id'].tolist()\n",
    "print(validation_set[:10])"
   ]
  },
  {
   "cell_type": "code",
   "execution_count": 3,
   "metadata": {},
   "outputs": [
    {
     "name": "stdout",
     "output_type": "stream",
     "text": [
      ".\\CBDB_20240208_DATA1.mdb\n"
     ]
    }
   ],
   "source": [
    "import os\n",
    "\n",
    "def find_mdb_file():\n",
    "    for root, dirs, files in os.walk(\".\"):\n",
    "        for file in files:\n",
    "            if file.endswith(\".mdb\"):\n",
    "                return os.path.join(root, file)\n",
    "\n",
    "mdb_file = find_mdb_file()\n",
    "print(mdb_file)\n"
   ]
  },
  {
   "cell_type": "code",
   "execution_count": 4,
   "metadata": {},
   "outputs": [],
   "source": [
    "conn_str = (r'DRIVER={Microsoft Access Driver (*.mdb, *.accdb)};'\n",
    "            f'DBQ={mdb_file};')"
   ]
  },
  {
   "cell_type": "code",
   "execution_count": 5,
   "metadata": {},
   "outputs": [
    {
     "data": {
      "text/html": [
       "<div>\n",
       "<style scoped>\n",
       "    .dataframe tbody tr th:only-of-type {\n",
       "        vertical-align: middle;\n",
       "    }\n",
       "\n",
       "    .dataframe tbody tr th {\n",
       "        vertical-align: top;\n",
       "    }\n",
       "\n",
       "    .dataframe thead th {\n",
       "        text-align: right;\n",
       "    }\n",
       "</style>\n",
       "<table border=\"1\" class=\"dataframe\">\n",
       "  <thead>\n",
       "    <tr style=\"text-align: right;\">\n",
       "      <th></th>\n",
       "      <th>c_name_type_code</th>\n",
       "      <th>c_name_type_desc</th>\n",
       "      <th>c_name_type_desc_chn</th>\n",
       "    </tr>\n",
       "  </thead>\n",
       "  <tbody>\n",
       "    <tr>\n",
       "      <th>0</th>\n",
       "      <td>-1</td>\n",
       "      <td>[Missing Data]</td>\n",
       "      <td>[Missing Data]</td>\n",
       "    </tr>\n",
       "    <tr>\n",
       "      <th>1</th>\n",
       "      <td>0</td>\n",
       "      <td>Unknown</td>\n",
       "      <td>未詳</td>\n",
       "    </tr>\n",
       "    <tr>\n",
       "      <th>2</th>\n",
       "      <td>3</td>\n",
       "      <td>Alternate Personal Name, Previously Used Name</td>\n",
       "      <td>别名、曾用名</td>\n",
       "    </tr>\n",
       "    <tr>\n",
       "      <th>3</th>\n",
       "      <td>4</td>\n",
       "      <td>Courtesy name</td>\n",
       "      <td>字</td>\n",
       "    </tr>\n",
       "    <tr>\n",
       "      <th>4</th>\n",
       "      <td>5</td>\n",
       "      <td>Studio name, Style name</td>\n",
       "      <td>室名、別號</td>\n",
       "    </tr>\n",
       "  </tbody>\n",
       "</table>\n",
       "</div>"
      ],
      "text/plain": [
       "   c_name_type_code                               c_name_type_desc  \\\n",
       "0                -1                                 [Missing Data]   \n",
       "1                 0                                        Unknown   \n",
       "2                 3  Alternate Personal Name, Previously Used Name   \n",
       "3                 4                                  Courtesy name   \n",
       "4                 5                        Studio name, Style name   \n",
       "\n",
       "  c_name_type_desc_chn  \n",
       "0       [Missing Data]  \n",
       "1                   未詳  \n",
       "2               别名、曾用名  \n",
       "3                    字  \n",
       "4                室名、別號  "
      ]
     },
     "execution_count": 5,
     "metadata": {},
     "output_type": "execute_result"
    }
   ],
   "source": [
    "sql = \"SELECT * FROM ALTNAME_CODES;\"\n",
    "with pyodbc.connect(conn_str) as conn:\n",
    "    df = pd.read_sql(sql, conn)\n",
    "df.head()"
   ]
  },
  {
   "cell_type": "code",
   "execution_count": 6,
   "metadata": {},
   "outputs": [],
   "source": [
    "conn = pyodbc.connect(conn_str)\n",
    "cursor = conn.cursor()\n",
    "batch_size = 50\n",
    "for i in range(0, len(validation_set_personid), batch_size):\n",
    "    batch = validation_set_personid[i:i+batch_size]\n",
    "    query = f\"UPDATE BIOG_MAIN SET c_birthyear = NULL WHERE c_personid IN ({', '.join('?' for _ in batch)})\"\n",
    "    cursor.execute(query, batch)\n",
    "    conn.commit()\n",
    "cursor.execute(query, batch)\n",
    "conn.commit()\n",
    "cursor.close()\n",
    "conn.close()"
   ]
  },
  {
   "cell_type": "code",
   "execution_count": null,
   "metadata": {},
   "outputs": [],
   "source": []
  }
 ],
 "metadata": {
  "kernelspec": {
   "display_name": "base",
   "language": "python",
   "name": "python3"
  },
  "language_info": {
   "codemirror_mode": {
    "name": "ipython",
    "version": 3
   },
   "file_extension": ".py",
   "mimetype": "text/x-python",
   "name": "python",
   "nbconvert_exporter": "python",
   "pygments_lexer": "ipython3",
   "version": "3.9.17"
  }
 },
 "nbformat": 4,
 "nbformat_minor": 2
}
