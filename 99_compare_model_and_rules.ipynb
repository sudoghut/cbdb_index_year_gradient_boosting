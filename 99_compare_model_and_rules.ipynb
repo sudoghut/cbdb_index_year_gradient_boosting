{
 "cells": [
  {
   "cell_type": "code",
   "execution_count": 1,
   "metadata": {},
   "outputs": [],
   "source": [
    "import pyodbc\n",
    "import pandas as pd"
   ]
  },
  {
   "cell_type": "code",
   "execution_count": 6,
   "metadata": {},
   "outputs": [
    {
     "name": "stdout",
     "output_type": "stream",
     "text": [
      "[62632, 34345, 206202, 142346, 131203, 66653, 145595, 140735, 101432, 203495]\n"
     ]
    }
   ],
   "source": [
    "# get a list from validation_set.csv, the person_id column\n",
    "validation_set = pd.read_csv('validation_set.csv',encoding='utf-8-sig')\n",
    "validation_set = validation_set['person_id'].tolist()\n",
    "print(validation_set[:10])"
   ]
  },
  {
   "cell_type": "code",
   "execution_count": 2,
   "metadata": {},
   "outputs": [],
   "source": [
    "# Connect to the database\n",
    "mdb_file = '99_compare_model_and_rules\\\\CBDB_20240208_DATA1.mdb'\n",
    "conn_str = (r'DRIVER={Microsoft Access Driver (*.mdb, *.accdb)};'\n",
    "            f'DBQ={mdb_file};')"
   ]
  },
  {
   "cell_type": "code",
   "execution_count": 5,
   "metadata": {},
   "outputs": [
    {
     "data": {
      "text/html": [
       "<div>\n",
       "<style scoped>\n",
       "    .dataframe tbody tr th:only-of-type {\n",
       "        vertical-align: middle;\n",
       "    }\n",
       "\n",
       "    .dataframe tbody tr th {\n",
       "        vertical-align: top;\n",
       "    }\n",
       "\n",
       "    .dataframe thead th {\n",
       "        text-align: right;\n",
       "    }\n",
       "</style>\n",
       "<table border=\"1\" class=\"dataframe\">\n",
       "  <thead>\n",
       "    <tr style=\"text-align: right;\">\n",
       "      <th></th>\n",
       "      <th>c_name_type_code</th>\n",
       "      <th>c_name_type_desc</th>\n",
       "      <th>c_name_type_desc_chn</th>\n",
       "    </tr>\n",
       "  </thead>\n",
       "  <tbody>\n",
       "    <tr>\n",
       "      <th>0</th>\n",
       "      <td>-1</td>\n",
       "      <td>[Missing Data]</td>\n",
       "      <td>[Missing Data]</td>\n",
       "    </tr>\n",
       "    <tr>\n",
       "      <th>1</th>\n",
       "      <td>0</td>\n",
       "      <td>Unknown</td>\n",
       "      <td>未詳</td>\n",
       "    </tr>\n",
       "    <tr>\n",
       "      <th>2</th>\n",
       "      <td>3</td>\n",
       "      <td>Alternate Personal Name, Previously Used Name</td>\n",
       "      <td>别名、曾用名</td>\n",
       "    </tr>\n",
       "    <tr>\n",
       "      <th>3</th>\n",
       "      <td>4</td>\n",
       "      <td>Courtesy name</td>\n",
       "      <td>字</td>\n",
       "    </tr>\n",
       "    <tr>\n",
       "      <th>4</th>\n",
       "      <td>5</td>\n",
       "      <td>Studio name, Style name</td>\n",
       "      <td>室名、別號</td>\n",
       "    </tr>\n",
       "  </tbody>\n",
       "</table>\n",
       "</div>"
      ],
      "text/plain": [
       "   c_name_type_code                               c_name_type_desc  \\\n",
       "0                -1                                 [Missing Data]   \n",
       "1                 0                                        Unknown   \n",
       "2                 3  Alternate Personal Name, Previously Used Name   \n",
       "3                 4                                  Courtesy name   \n",
       "4                 5                        Studio name, Style name   \n",
       "\n",
       "  c_name_type_desc_chn  \n",
       "0       [Missing Data]  \n",
       "1                   未詳  \n",
       "2               别名、曾用名  \n",
       "3                    字  \n",
       "4                室名、別號  "
      ]
     },
     "execution_count": 5,
     "metadata": {},
     "output_type": "execute_result"
    }
   ],
   "source": [
    "sql = \"SELECT * FROM ALTNAME_CODES;\"\n",
    "with pyodbc.connect(conn_str) as conn:\n",
    "    df = pd.read_sql(sql, conn)\n",
    "df.head()"
   ]
  }
 ],
 "metadata": {
  "kernelspec": {
   "display_name": "base",
   "language": "python",
   "name": "python3"
  },
  "language_info": {
   "codemirror_mode": {
    "name": "ipython",
    "version": 3
   },
   "file_extension": ".py",
   "mimetype": "text/x-python",
   "name": "python",
   "nbconvert_exporter": "python",
   "pygments_lexer": "ipython3",
   "version": "3.9.17"
  }
 },
 "nbformat": 4,
 "nbformat_minor": 2
}
